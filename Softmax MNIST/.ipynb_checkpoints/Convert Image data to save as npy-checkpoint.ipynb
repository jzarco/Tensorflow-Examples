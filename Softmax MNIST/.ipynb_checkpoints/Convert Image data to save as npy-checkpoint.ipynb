{
 "cells": [
  {
   "cell_type": "code",
   "execution_count": null,
   "metadata": {
    "collapsed": true
   },
   "outputs": [],
   "source": [
    "import numpy as np\n",
    "from image_reader_utils import *"
   ]
  },
  {
   "cell_type": "code",
   "execution_count": null,
   "metadata": {
    "collapsed": true
   },
   "outputs": [],
   "source": [
    "training_data = \"D:\\\\Image Data\\\\fruits-360\\\\Training\"\n",
    "testing_data = \"D:\\\\Image Data\\\\fruits-360\\\\Test\""
   ]
  },
  {
   "cell_type": "code",
   "execution_count": null,
   "metadata": {
    "collapsed": true
   },
   "outputs": [],
   "source": [
    "X_train,Y_train = build_imgdata_from_dirs(training_data)\n",
    "X_test, Y_test = build_imgdata_from_dirs(testing_data)"
   ]
  },
  {
   "cell_type": "code",
   "execution_count": null,
   "metadata": {
    "collapsed": true
   },
   "outputs": [],
   "source": [
    "print(\"X train shape: \",X_train.shape)\n",
    "print(\"X test shape: \",X_test.shape)\n",
    "print(\"Y train shape: \",Y_train.shape)\n",
    "print(\"Y test shape: \",Y_test.shape)"
   ]
  },
  {
   "cell_type": "code",
   "execution_count": null,
   "metadata": {
    "collapsed": true
   },
   "outputs": [],
   "source": [
    "np.save(\"D:\\\\Image Data\\\\Data\\\\X_train.npy\",X_train)\n",
    "np.save(\"D:\\\\Image Data\\\\Data\\\\Y_train.npy\",Y_train)\n",
    "np.save(\"D:\\\\Image Data\\\\Data\\\\X_test.npy\",X_test)\n",
    "np.save(\"D:\\\\Image Data\\\\Data\\\\Y_test.npy\",Y_test)"
   ]
  },
  {
   "cell_type": "code",
   "execution_count": null,
   "metadata": {
    "collapsed": true
   },
   "outputs": [],
   "source": []
  },
  {
   "cell_type": "code",
   "execution_count": 1,
   "metadata": {
    "collapsed": true
   },
   "outputs": [],
   "source": [
    "import tensorflow as tf\n",
    "from image_reader_utils import *\n",
    "import matplotlib.pyplot as plt\n",
    "from tensorflow.python.framework import ops"
   ]
  },
  {
   "cell_type": "code",
   "execution_count": 2,
   "metadata": {
    "collapsed": true
   },
   "outputs": [],
   "source": [
    "def create_placeholders(n_h,n_w,n_c,n_y):\n",
    "\n",
    "    X = tf.placeholder(tf.float32, shape=[None, n_h, n_w, n_c])\n",
    "    Y = tf.placeholder(tf.float32, shape=[None, n_y])\n",
    "\n",
    "    return X,Y"
   ]
  },
  {
   "cell_type": "code",
   "execution_count": 3,
   "metadata": {},
   "outputs": [
    {
     "name": "stdout",
     "output_type": "stream",
     "text": [
      "Tensor(\"Placeholder:0\", shape=(?, 100, 100, 3), dtype=float32)\n",
      "Tensor(\"Placeholder_1:0\", shape=(?, 103), dtype=float32)\n"
     ]
    }
   ],
   "source": [
    "X,Y = create_placeholders(100,100,3,103)\n",
    "\n",
    "print(X)\n",
    "print(Y)"
   ]
  },
  {
   "cell_type": "code",
   "execution_count": 4,
   "metadata": {
    "collapsed": true
   },
   "outputs": [],
   "source": [
    "def build_parameters():\n",
    "    ######################################\n",
    "    \"\"\"BUILD FILTERS WITH BIASES\"\"\"\n",
    "    ######################################\n",
    "    \"\"\"\n",
    "    Filters should be of shape height, width, and number of channels with defined total number of filters. \n",
    "    e.g. [4,4,3,32] defines a 4x4 filter for a 3 channel input that outputs 32 channels.\n",
    "    \"\"\"\n",
    "    F1 = tf.get_variable('F1', shape=[4, 4, 3, 32], initializer=tf.contrib.layers.xavier_initializer(seed=1))\n",
    "    fb1 = tf.get_variable('fb1', shape=[32], initializer=tf.zeros_initializer())\n",
    "\n",
    "    F2 = tf.get_variable('F2', shape=[4, 4, 32, 64], initializer=tf.contrib.layers.xavier_initializer(seed=1))\n",
    "    fb2 = tf.get_variable('fb2', shape=[64], initializer=tf.zeros_initializer())\n",
    "\n",
    "    F3 = tf.get_variable('F3', shape=[4, 4, 64, 128], initializer=tf.contrib.layers.xavier_initializer(seed=1))\n",
    "    fb3 = tf.get_variable('fb3', shape=[128], initializer=tf.zeros_initializer())\n",
    "\n",
    "    ######################################\n",
    "    \"\"\"BUILD WEIGHTS WITH BIASES FOR FULLY CONNECTED LAYERS\"\"\"\n",
    "    ######################################\n",
    "\n",
    "    b1 = tf.get_variable('b1', shape=[1024, 1], initializer=tf.zeros_initializer())\n",
    "\n",
    "    W2 = tf.get_variable('W2', shape=[512, 1024], initializer=tf.contrib.layers.xavier_initializer(seed=1))\n",
    "    b2 = tf.get_variable('b2', shape=[512, 1], initializer=tf.zeros_initializer())\n",
    "\n",
    "    W3 = tf.get_variable('W3', shape=[10, 512], initializer=tf.contrib.layers.xavier_initializer(seed=1))\n",
    "    b3 = tf.get_variable('b3', shape=[10, 1], initializer=tf.zeros_initializer())\n",
    "\n",
    "    ######################################\n",
    "    \"\"\"STORE FILTERS AND WEIGHTS \"\"\"\n",
    "    ######################################\n",
    "    parameters = {'F1': F1,\n",
    "                  'fb1': fb1,\n",
    "                  'F2': F2,\n",
    "                  'fb2': fb2,\n",
    "                  'F3': F3,\n",
    "                  'fb3': fb3,\n",
    "                  'b1': b1,\n",
    "                  'W2': W2,\n",
    "                  'b2': b2,\n",
    "                  'W3': W3,\n",
    "                  'b3': b3}\n",
    "\n",
    "    return parameters"
   ]
  },
  {
   "cell_type": "code",
   "execution_count": 5,
   "metadata": {},
   "outputs": [
    {
     "name": "stdout",
     "output_type": "stream",
     "text": [
      "\n",
      "WARNING: The TensorFlow contrib module will not be included in TensorFlow 2.0.\n",
      "For more information, please see:\n",
      "  * https://github.com/tensorflow/community/blob/master/rfcs/20180907-contrib-sunset.md\n",
      "  * https://github.com/tensorflow/addons\n",
      "If you depend on functionality not listed there, please file an issue.\n",
      "\n",
      "WARNING:tensorflow:From C:\\Users\\Juan Felipe Zarco\\Anaconda3\\lib\\site-packages\\tensorflow\\python\\framework\\op_def_library.py:263: colocate_with (from tensorflow.python.framework.ops) is deprecated and will be removed in a future version.\n",
      "Instructions for updating:\n",
      "Colocations handled automatically by placer.\n",
      "{'F1': <tf.Variable 'F1:0' shape=(4, 4, 3, 32) dtype=float32_ref>, 'fb1': <tf.Variable 'fb1:0' shape=(32,) dtype=float32_ref>, 'F2': <tf.Variable 'F2:0' shape=(4, 4, 32, 64) dtype=float32_ref>, 'fb2': <tf.Variable 'fb2:0' shape=(64,) dtype=float32_ref>, 'F3': <tf.Variable 'F3:0' shape=(4, 4, 64, 128) dtype=float32_ref>, 'fb3': <tf.Variable 'fb3:0' shape=(128,) dtype=float32_ref>, 'b1': <tf.Variable 'b1:0' shape=(1024, 1) dtype=float32_ref>, 'W2': <tf.Variable 'W2:0' shape=(512, 1024) dtype=float32_ref>, 'b2': <tf.Variable 'b2:0' shape=(512, 1) dtype=float32_ref>, 'W3': <tf.Variable 'W3:0' shape=(10, 512) dtype=float32_ref>, 'b3': <tf.Variable 'b3:0' shape=(10, 1) dtype=float32_ref>}\n"
     ]
    }
   ],
   "source": [
    "parameters = build_parameters()\n",
    "print(parameters)"
   ]
  },
  {
   "cell_type": "code",
   "execution_count": 6,
   "metadata": {
    "collapsed": true
   },
   "outputs": [],
   "source": [
    "def conv2d(x, b, filter, strides=1, padding='SAME'):\n",
    "    x = tf.nn.conv2d(x, filter, strides=[1, strides, strides, 1], padding=padding)\n",
    "    x = tf.nn.bias_add(x, b)\n",
    "    x = tf.nn.relu(x)\n",
    "    return x\n",
    "\n",
    "def maxpool2d(x, k=2, padding='SAME'):\n",
    "    x = tf.nn.max_pool(x, ksize=[1, k, k, 1],strides=[1, k, k, 1], padding=padding)\n",
    "    return x\n",
    "\n",
    "def dropout(x, prob):\n",
    "    x = tf.nn.dropout(x, prob)\n",
    "    return x\n",
    "\n",
    "def dense(x, W, b):\n",
    "    x = tf.add(tf.matmul(W, x), b)\n",
    "    x = tf.nn.relu(x)\n",
    "    return x\n",
    "\n",
    "def flatten(x):\n",
    "    x = tf.layers.flatten(x)\n",
    "    return x\n",
    "\n",
    "def one_hot_mat(y, n_classes):\n",
    "    \"\"\"\n",
    "\n",
    "    :param y: label vector\n",
    "    :param n_classes: number of different classes\n",
    "    :return: one hot tensorflow matrix\n",
    "    \"\"\"\n",
    "\n",
    "    n_c = tf.constant(n_classes, name='n_classes')\n",
    "\n",
    "    one_hot_mat = tf.one_hot(y, depth=n_c, axis=0)\n",
    "\n",
    "    sess = tf.Session()\n",
    "\n",
    "    one_hot = sess.run(one_hot_mat)\n",
    "\n",
    "    sess.close()\n",
    "\n",
    "    return one_hot"
   ]
  },
  {
   "cell_type": "code",
   "execution_count": 11,
   "metadata": {
    "collapsed": true
   },
   "outputs": [],
   "source": [
    "def convnet(X, parameters, keep_prob):\n",
    "\n",
    "    ####FIRST CONVOLUTION LAYER####\n",
    "    conv1 = conv2d(X, parameters['fb1'], parameters['F1'], strides=1, padding='SAME')\n",
    "    conv1 = maxpool2d(conv1, k=3)\n",
    "\n",
    "    ####SECOND CONVOLUTION LAYER####\n",
    "    conv2 = conv2d(conv1, parameters['fb2'], parameters['F2'], strides=1, padding='SAME')\n",
    "    conv2 = maxpool2d(conv2, k=3)\n",
    "\n",
    "    ####THIRD CONVOLUTION LAYER####\n",
    "    conv3 = conv2d(conv2, parameters['fb3'], parameters['F3'], strides=1, padding='SAME')\n",
    "    conv3 = maxpool2d(conv3, k=3)\n",
    "\n",
    "    ####FULLY CONNECTED LAYERS####\n",
    "    fc1 = flatten(conv3)\n",
    "    \n",
    "    d1 = tf.keras.layers.dense(1024)(fc1)\n",
    "    d1 = dropout(d1, keep_prob)\n",
    "    d2 = dense(d1, parameters['W2'], parameters['b2'])\n",
    "    d2 = dropout(d2, keep_prob)\n",
    "    out = dense(d2, parameters['W3'], parameters['b3'])\n",
    "\n",
    "    return out"
   ]
  },
  {
   "cell_type": "code",
   "execution_count": 8,
   "metadata": {
    "collapsed": true
   },
   "outputs": [],
   "source": [
    "def model(X_train,Y_train,X_test,Y_test,epochs=15,batch_size=5,learning_rate=0.001):\n",
    "\n",
    "    ops.reset_default_graph()\n",
    "    tf.reset_default_graph()\n",
    "    tf.set_random_seed(123)\n",
    "\n",
    "    m, n_h, n_w, n_c = X_train.shape #Number of training examples\n",
    "    n_y = Y_train.shape[1]\n",
    "\n",
    "    costs = []\n",
    "\n",
    "    ######################################\n",
    "    \"\"\"CREATE PLACEHOLDER FOR GRAPH INPUT\"\"\"\n",
    "    ######################################\n",
    "\n",
    "    X,Y = create_placeholders(n_h,n_w,n_c,n_y)\n",
    "    keep_prob = tf.placeholder(tf.float32)\n",
    "\n",
    "    parameters = build_parameters()\n",
    "\n",
    "    ######################################\n",
    "    \"\"\"BUILD PREDICTIONS AND CHECK PREDICTIONS AND DEFINE OPTIMIZATION\"\"\"\n",
    "    ######################################\n",
    "\n",
    "    logits = convnet(X, parameters, keep_prob)\n",
    "    predictions = tf.nn.softmax(logits)\n",
    "\n",
    "    loss = tf.reduce_mean(tf.nn.softmax_cross_entropy_with_logits_v2(logits=logits, labels=Y))\n",
    "\n",
    "    opt = tf.train.AdamOptimizer(learning_rate=learning_rate).minimize(loss)\n",
    "\n",
    "    evaluate = tf.equal(tf.argmax(predictions,1), tf.argmax(Y,1))\n",
    "\n",
    "    accuracy = tf.reduce_mean(tf.cast(evaluate, tf.float32))\n",
    "\n",
    "    ######################################\n",
    "    \"\"\"INITIALIZE TENSORS AND BEGIN TRAINING\"\"\"\n",
    "    ######################################\n",
    "\n",
    "    tf.reset_default_graph()\n",
    "\n",
    "    init = tf.global_variables_initializer()\n",
    "\n",
    "    with tf.Session() as sess:\n",
    "\n",
    "        sess.run(init)\n",
    "\n",
    "        shuffler = np.random.permutation(m)\n",
    "        X_shuffled = X_train[shuffler,:,:,:]\n",
    "        Y_shuffled = Y_train[shuffler,:]\n",
    "        print(\"Shuffled shape: \",X_train.shape)\n",
    "\n",
    "        for epoch in range(epochs):\n",
    "            epoch = epoch + 1\n",
    "            epoch_cost = 0\n",
    "            mb_costs = []\n",
    "\n",
    "            total_batches = int(m / batch_size)\n",
    "\n",
    "            if m % batch_size == 0:\n",
    "                for batch_num in range(total_batches):\n",
    "                    X_batch = X_shuffled[batch_num * batch_size:batch_num * batch_size + batch_size,:,:,:]\n",
    "                    Y_batch = Y_shuffled[batch_num * batch_size:batch_num * batch_size + batch_size,:]\n",
    "\n",
    "                    _, mb_cost = sess.run([opt, cost], feed_dict={X: X_batch, Y: Y_batch, keep_prob: 0.8})\n",
    "                    mb_costs.append(mb_cost)\n",
    "\n",
    "                    epoch_cost += mb_cost / total_batches\n",
    "                plt.plot(np.squeeze(mb_costs))\n",
    "                plt.title(\"Minibatch Costs\")\n",
    "                plt.show()\n",
    "            else:\n",
    "                for batch_num in range(total_batches):\n",
    "                    try:\n",
    "                        X_batch = X_shuffled[batch_num * batch_size:batch_num * batch_size + batch_size,:,:,:]\n",
    "                        Y_batch = Y_shuffled[batch_num * batch_size:batch_num * batch_size + batch_size,:]\n",
    "                    except:\n",
    "                        try:\n",
    "                            X_batch = X_shuffled[batch_num * batch_size:batch_num * batch_size + batch_size,:,:,:]\n",
    "                            Y_batch = Y_shuffled[batch_num * batch_size:batch_num * batch_size + batch_size,:]\n",
    "                        except:\n",
    "                            print(\"Error slicing minibatches\")\n",
    "                    _, mb_cost = sess.run([opt, cost], feed_dict={X: X_batch, Y: Y_batch, keep_prob: 0.8})\n",
    "                    plt.plot(np.squeeze(mb_costs))\n",
    "                    plt.title(\"Minibatch Costs\")\n",
    "                    plt.show()\n",
    "\n",
    "                    epoch_cost += mb_cost/total_batches\n",
    "            if (print_cost == True) and (epoch % 5 == 0):\n",
    "                print(\"Total Cost at Epoch {epoch}: {cost}\".format(epoch=epoch,cost=epoch_cost))\n",
    "            costs.append(epoch_cost)\n",
    "\n",
    "        parameters = sess.run(parameters)\n",
    "\n",
    "        print(\"Train Accuracy: \", accuracy.eval({X: X_train, Y: Y_train}))\n",
    "        print(\"Test Accuracy: \", accuracy.eval({X: X_test, Y: Y_test}))\n",
    "\n",
    "        return parameters,costs"
   ]
  },
  {
   "cell_type": "code",
   "execution_count": 9,
   "metadata": {},
   "outputs": [
    {
     "name": "stdout",
     "output_type": "stream",
     "text": [
      "Shape of Y:  (53177, 103)\n",
      "Shape of X:  (53177, 100, 100, 3)\n"
     ]
    }
   ],
   "source": [
    "X_train = np.load(\"D:\\\\Image Data\\\\Data\\\\X_train.npy\")\n",
    "X_test = np.load(\"D:\\\\Image Data\\\\Data\\\\X_test.npy\")\n",
    "Y_train = np.load(\"D:\\\\Image Data\\\\Data\\\\Y_train.npy\")\n",
    "Y_test = np.load(\"D:\\\\Image Data\\\\Data\\\\Y_test.npy\")\n",
    "\n",
    "n_c = len(np.unique(Y_train))\n",
    "\n",
    "Y_train = one_hot_mat(Y_train, n_c).T\n",
    "Y_test = one_hot_mat(Y_test, n_c).T\n",
    "\n",
    "print(\"Shape of Y: \", Y_train.shape)\n",
    "print(\"Shape of X: \",X_train.shape)"
   ]
  },
  {
   "cell_type": "code",
   "execution_count": 12,
   "metadata": {},
   "outputs": [
    {
     "ename": "InvalidArgumentError",
     "evalue": "You must feed a value for placeholder tensor 'Placeholder' with dtype float and shape [?,100,100,3]\n\t [[node Placeholder (defined at <ipython-input-2-58290138c230>:3) ]]\n\t [[node Shape (defined at <ipython-input-11-ead0c18f3e30>:19) ]]\n\nCaused by op 'Placeholder', defined at:\n  File \"C:\\Users\\Juan Felipe Zarco\\Anaconda3\\lib\\runpy.py\", line 193, in _run_module_as_main\n    \"__main__\", mod_spec)\n  File \"C:\\Users\\Juan Felipe Zarco\\Anaconda3\\lib\\runpy.py\", line 85, in _run_code\n    exec(code, run_globals)\n  File \"C:\\Users\\Juan Felipe Zarco\\Anaconda3\\lib\\site-packages\\ipykernel_launcher.py\", line 16, in <module>\n    app.launch_new_instance()\n  File \"C:\\Users\\Juan Felipe Zarco\\Anaconda3\\lib\\site-packages\\traitlets\\config\\application.py\", line 658, in launch_instance\n    app.start()\n  File \"C:\\Users\\Juan Felipe Zarco\\Anaconda3\\lib\\site-packages\\ipykernel\\kernelapp.py\", line 477, in start\n    ioloop.IOLoop.instance().start()\n  File \"C:\\Users\\Juan Felipe Zarco\\Anaconda3\\lib\\site-packages\\zmq\\eventloop\\ioloop.py\", line 177, in start\n    super(ZMQIOLoop, self).start()\n  File \"C:\\Users\\Juan Felipe Zarco\\Anaconda3\\lib\\site-packages\\tornado\\ioloop.py\", line 888, in start\n    handler_func(fd_obj, events)\n  File \"C:\\Users\\Juan Felipe Zarco\\Anaconda3\\lib\\site-packages\\tornado\\stack_context.py\", line 277, in null_wrapper\n    return fn(*args, **kwargs)\n  File \"C:\\Users\\Juan Felipe Zarco\\Anaconda3\\lib\\site-packages\\zmq\\eventloop\\zmqstream.py\", line 440, in _handle_events\n    self._handle_recv()\n  File \"C:\\Users\\Juan Felipe Zarco\\Anaconda3\\lib\\site-packages\\zmq\\eventloop\\zmqstream.py\", line 472, in _handle_recv\n    self._run_callback(callback, msg)\n  File \"C:\\Users\\Juan Felipe Zarco\\Anaconda3\\lib\\site-packages\\zmq\\eventloop\\zmqstream.py\", line 414, in _run_callback\n    callback(*args, **kwargs)\n  File \"C:\\Users\\Juan Felipe Zarco\\Anaconda3\\lib\\site-packages\\tornado\\stack_context.py\", line 277, in null_wrapper\n    return fn(*args, **kwargs)\n  File \"C:\\Users\\Juan Felipe Zarco\\Anaconda3\\lib\\site-packages\\ipykernel\\kernelbase.py\", line 283, in dispatcher\n    return self.dispatch_shell(stream, msg)\n  File \"C:\\Users\\Juan Felipe Zarco\\Anaconda3\\lib\\site-packages\\ipykernel\\kernelbase.py\", line 235, in dispatch_shell\n    handler(stream, idents, msg)\n  File \"C:\\Users\\Juan Felipe Zarco\\Anaconda3\\lib\\site-packages\\ipykernel\\kernelbase.py\", line 399, in execute_request\n    user_expressions, allow_stdin)\n  File \"C:\\Users\\Juan Felipe Zarco\\Anaconda3\\lib\\site-packages\\ipykernel\\ipkernel.py\", line 196, in do_execute\n    res = shell.run_cell(code, store_history=store_history, silent=silent)\n  File \"C:\\Users\\Juan Felipe Zarco\\Anaconda3\\lib\\site-packages\\ipykernel\\zmqshell.py\", line 533, in run_cell\n    return super(ZMQInteractiveShell, self).run_cell(*args, **kwargs)\n  File \"C:\\Users\\Juan Felipe Zarco\\Anaconda3\\lib\\site-packages\\IPython\\core\\interactiveshell.py\", line 2698, in run_cell\n    interactivity=interactivity, compiler=compiler, result=result)\n  File \"C:\\Users\\Juan Felipe Zarco\\Anaconda3\\lib\\site-packages\\IPython\\core\\interactiveshell.py\", line 2802, in run_ast_nodes\n    if self.run_code(code, result):\n  File \"C:\\Users\\Juan Felipe Zarco\\Anaconda3\\lib\\site-packages\\IPython\\core\\interactiveshell.py\", line 2862, in run_code\n    exec(code_obj, self.user_global_ns, self.user_ns)\n  File \"<ipython-input-12-fcf64ee3046a>\", line 1, in <module>\n    params, cost = model(X_train, Y_train, X_test, Y_test, epochs=15, batch_size=5, learning_rate=0.001)\n  File \"<ipython-input-8-efe95d4262e0>\", line 16, in model\n    X,Y = create_placeholders(n_h,n_w,n_c,n_y)\n  File \"<ipython-input-2-58290138c230>\", line 3, in create_placeholders\n    X = tf.placeholder(tf.float32, shape=[None, n_h, n_w, n_c])\n  File \"C:\\Users\\Juan Felipe Zarco\\Anaconda3\\lib\\site-packages\\tensorflow\\python\\ops\\array_ops.py\", line 2077, in placeholder\n    return gen_array_ops.placeholder(dtype=dtype, shape=shape, name=name)\n  File \"C:\\Users\\Juan Felipe Zarco\\Anaconda3\\lib\\site-packages\\tensorflow\\python\\ops\\gen_array_ops.py\", line 5791, in placeholder\n    \"Placeholder\", dtype=dtype, shape=shape, name=name)\n  File \"C:\\Users\\Juan Felipe Zarco\\Anaconda3\\lib\\site-packages\\tensorflow\\python\\framework\\op_def_library.py\", line 788, in _apply_op_helper\n    op_def=op_def)\n  File \"C:\\Users\\Juan Felipe Zarco\\Anaconda3\\lib\\site-packages\\tensorflow\\python\\util\\deprecation.py\", line 507, in new_func\n    return func(*args, **kwargs)\n  File \"C:\\Users\\Juan Felipe Zarco\\Anaconda3\\lib\\site-packages\\tensorflow\\python\\framework\\ops.py\", line 3300, in create_op\n    op_def=op_def)\n  File \"C:\\Users\\Juan Felipe Zarco\\Anaconda3\\lib\\site-packages\\tensorflow\\python\\framework\\ops.py\", line 1801, in __init__\n    self._traceback = tf_stack.extract_stack()\n\nInvalidArgumentError (see above for traceback): You must feed a value for placeholder tensor 'Placeholder' with dtype float and shape [?,100,100,3]\n\t [[node Placeholder (defined at <ipython-input-2-58290138c230>:3) ]]\n\t [[node Shape (defined at <ipython-input-11-ead0c18f3e30>:19) ]]\n",
     "output_type": "error",
     "traceback": [
      "\u001b[1;31m---------------------------------------------------------------------------\u001b[0m",
      "\u001b[1;31mInvalidArgumentError\u001b[0m                      Traceback (most recent call last)",
      "\u001b[1;32m~\\Anaconda3\\lib\\site-packages\\tensorflow\\python\\client\\session.py\u001b[0m in \u001b[0;36m_do_call\u001b[1;34m(self, fn, *args)\u001b[0m\n\u001b[0;32m   1333\u001b[0m     \u001b[1;32mtry\u001b[0m\u001b[1;33m:\u001b[0m\u001b[1;33m\u001b[0m\u001b[0m\n\u001b[1;32m-> 1334\u001b[1;33m       \u001b[1;32mreturn\u001b[0m \u001b[0mfn\u001b[0m\u001b[1;33m(\u001b[0m\u001b[1;33m*\u001b[0m\u001b[0margs\u001b[0m\u001b[1;33m)\u001b[0m\u001b[1;33m\u001b[0m\u001b[0m\n\u001b[0m\u001b[0;32m   1335\u001b[0m     \u001b[1;32mexcept\u001b[0m \u001b[0merrors\u001b[0m\u001b[1;33m.\u001b[0m\u001b[0mOpError\u001b[0m \u001b[1;32mas\u001b[0m \u001b[0me\u001b[0m\u001b[1;33m:\u001b[0m\u001b[1;33m\u001b[0m\u001b[0m\n",
      "\u001b[1;32m~\\Anaconda3\\lib\\site-packages\\tensorflow\\python\\client\\session.py\u001b[0m in \u001b[0;36m_run_fn\u001b[1;34m(feed_dict, fetch_list, target_list, options, run_metadata)\u001b[0m\n\u001b[0;32m   1318\u001b[0m       return self._call_tf_sessionrun(\n\u001b[1;32m-> 1319\u001b[1;33m           options, feed_dict, fetch_list, target_list, run_metadata)\n\u001b[0m\u001b[0;32m   1320\u001b[0m \u001b[1;33m\u001b[0m\u001b[0m\n",
      "\u001b[1;32m~\\Anaconda3\\lib\\site-packages\\tensorflow\\python\\client\\session.py\u001b[0m in \u001b[0;36m_call_tf_sessionrun\u001b[1;34m(self, options, feed_dict, fetch_list, target_list, run_metadata)\u001b[0m\n\u001b[0;32m   1406\u001b[0m         \u001b[0mself\u001b[0m\u001b[1;33m.\u001b[0m\u001b[0m_session\u001b[0m\u001b[1;33m,\u001b[0m \u001b[0moptions\u001b[0m\u001b[1;33m,\u001b[0m \u001b[0mfeed_dict\u001b[0m\u001b[1;33m,\u001b[0m \u001b[0mfetch_list\u001b[0m\u001b[1;33m,\u001b[0m \u001b[0mtarget_list\u001b[0m\u001b[1;33m,\u001b[0m\u001b[1;33m\u001b[0m\u001b[0m\n\u001b[1;32m-> 1407\u001b[1;33m         run_metadata)\n\u001b[0m\u001b[0;32m   1408\u001b[0m \u001b[1;33m\u001b[0m\u001b[0m\n",
      "\u001b[1;31mInvalidArgumentError\u001b[0m: You must feed a value for placeholder tensor 'Placeholder' with dtype float and shape [?,100,100,3]\n\t [[{{node Placeholder}}]]\n\t [[{{node Shape}}]]",
      "\nDuring handling of the above exception, another exception occurred:\n",
      "\u001b[1;31mInvalidArgumentError\u001b[0m                      Traceback (most recent call last)",
      "\u001b[1;32m<ipython-input-12-fcf64ee3046a>\u001b[0m in \u001b[0;36m<module>\u001b[1;34m()\u001b[0m\n\u001b[1;32m----> 1\u001b[1;33m \u001b[0mparams\u001b[0m\u001b[1;33m,\u001b[0m \u001b[0mcost\u001b[0m \u001b[1;33m=\u001b[0m \u001b[0mmodel\u001b[0m\u001b[1;33m(\u001b[0m\u001b[0mX_train\u001b[0m\u001b[1;33m,\u001b[0m \u001b[0mY_train\u001b[0m\u001b[1;33m,\u001b[0m \u001b[0mX_test\u001b[0m\u001b[1;33m,\u001b[0m \u001b[0mY_test\u001b[0m\u001b[1;33m,\u001b[0m \u001b[0mepochs\u001b[0m\u001b[1;33m=\u001b[0m\u001b[1;36m15\u001b[0m\u001b[1;33m,\u001b[0m \u001b[0mbatch_size\u001b[0m\u001b[1;33m=\u001b[0m\u001b[1;36m5\u001b[0m\u001b[1;33m,\u001b[0m \u001b[0mlearning_rate\u001b[0m\u001b[1;33m=\u001b[0m\u001b[1;36m0.001\u001b[0m\u001b[1;33m)\u001b[0m\u001b[1;33m\u001b[0m\u001b[0m\n\u001b[0m",
      "\u001b[1;32m<ipython-input-8-efe95d4262e0>\u001b[0m in \u001b[0;36mmodel\u001b[1;34m(X_train, Y_train, X_test, Y_test, epochs, batch_size, learning_rate)\u001b[0m\n\u001b[0;32m     23\u001b[0m     \u001b[1;31m######################################\u001b[0m\u001b[1;33m\u001b[0m\u001b[1;33m\u001b[0m\u001b[0m\n\u001b[0;32m     24\u001b[0m \u001b[1;33m\u001b[0m\u001b[0m\n\u001b[1;32m---> 25\u001b[1;33m     \u001b[0mlogits\u001b[0m \u001b[1;33m=\u001b[0m \u001b[0mconvnet\u001b[0m\u001b[1;33m(\u001b[0m\u001b[0mX\u001b[0m\u001b[1;33m,\u001b[0m \u001b[0mparameters\u001b[0m\u001b[1;33m,\u001b[0m \u001b[0mkeep_prob\u001b[0m\u001b[1;33m)\u001b[0m\u001b[1;33m\u001b[0m\u001b[0m\n\u001b[0m\u001b[0;32m     26\u001b[0m     \u001b[0mpredictions\u001b[0m \u001b[1;33m=\u001b[0m \u001b[0mtf\u001b[0m\u001b[1;33m.\u001b[0m\u001b[0mnn\u001b[0m\u001b[1;33m.\u001b[0m\u001b[0msoftmax\u001b[0m\u001b[1;33m(\u001b[0m\u001b[0mlogits\u001b[0m\u001b[1;33m)\u001b[0m\u001b[1;33m\u001b[0m\u001b[0m\n\u001b[0;32m     27\u001b[0m \u001b[1;33m\u001b[0m\u001b[0m\n",
      "\u001b[1;32m<ipython-input-11-ead0c18f3e30>\u001b[0m in \u001b[0;36mconvnet\u001b[1;34m(X, parameters, keep_prob)\u001b[0m\n\u001b[0;32m     17\u001b[0m     \u001b[0ms\u001b[0m \u001b[1;33m=\u001b[0m \u001b[1;32mNone\u001b[0m\u001b[1;33m\u001b[0m\u001b[0m\n\u001b[0;32m     18\u001b[0m     \u001b[1;32mwith\u001b[0m \u001b[0mtf\u001b[0m\u001b[1;33m.\u001b[0m\u001b[0mSession\u001b[0m\u001b[1;33m(\u001b[0m\u001b[1;33m)\u001b[0m \u001b[1;32mas\u001b[0m \u001b[0msess\u001b[0m\u001b[1;33m:\u001b[0m\u001b[1;33m\u001b[0m\u001b[0m\n\u001b[1;32m---> 19\u001b[1;33m         \u001b[0ms\u001b[0m \u001b[1;33m=\u001b[0m \u001b[0mtf\u001b[0m\u001b[1;33m.\u001b[0m\u001b[0mshape\u001b[0m\u001b[1;33m(\u001b[0m\u001b[0mfc1\u001b[0m\u001b[1;33m)\u001b[0m\u001b[1;33m.\u001b[0m\u001b[0meval\u001b[0m\u001b[1;33m(\u001b[0m\u001b[1;33m)\u001b[0m\u001b[1;33m[\u001b[0m\u001b[1;36m0\u001b[0m\u001b[1;33m]\u001b[0m\u001b[1;33m\u001b[0m\u001b[0m\n\u001b[0m\u001b[0;32m     20\u001b[0m         \u001b[0mprint\u001b[0m\u001b[1;33m(\u001b[0m\u001b[1;34m\"S: \"\u001b[0m\u001b[1;33m,\u001b[0m\u001b[0ms\u001b[0m\u001b[1;33m)\u001b[0m\u001b[1;33m\u001b[0m\u001b[0m\n\u001b[0;32m     21\u001b[0m         \u001b[0msess\u001b[0m\u001b[1;33m.\u001b[0m\u001b[0mclose\u001b[0m\u001b[1;33m(\u001b[0m\u001b[1;33m)\u001b[0m\u001b[1;33m\u001b[0m\u001b[0m\n",
      "\u001b[1;32m~\\Anaconda3\\lib\\site-packages\\tensorflow\\python\\framework\\ops.py\u001b[0m in \u001b[0;36meval\u001b[1;34m(self, feed_dict, session)\u001b[0m\n\u001b[0;32m    693\u001b[0m \u001b[1;33m\u001b[0m\u001b[0m\n\u001b[0;32m    694\u001b[0m     \"\"\"\n\u001b[1;32m--> 695\u001b[1;33m     \u001b[1;32mreturn\u001b[0m \u001b[0m_eval_using_default_session\u001b[0m\u001b[1;33m(\u001b[0m\u001b[0mself\u001b[0m\u001b[1;33m,\u001b[0m \u001b[0mfeed_dict\u001b[0m\u001b[1;33m,\u001b[0m \u001b[0mself\u001b[0m\u001b[1;33m.\u001b[0m\u001b[0mgraph\u001b[0m\u001b[1;33m,\u001b[0m \u001b[0msession\u001b[0m\u001b[1;33m)\u001b[0m\u001b[1;33m\u001b[0m\u001b[0m\n\u001b[0m\u001b[0;32m    696\u001b[0m \u001b[1;33m\u001b[0m\u001b[0m\n\u001b[0;32m    697\u001b[0m \u001b[1;33m\u001b[0m\u001b[0m\n",
      "\u001b[1;32m~\\Anaconda3\\lib\\site-packages\\tensorflow\\python\\framework\\ops.py\u001b[0m in \u001b[0;36m_eval_using_default_session\u001b[1;34m(tensors, feed_dict, graph, session)\u001b[0m\n\u001b[0;32m   5179\u001b[0m                        \u001b[1;34m\"the tensor's graph is different from the session's \"\u001b[0m\u001b[1;33m\u001b[0m\u001b[0m\n\u001b[0;32m   5180\u001b[0m                        \"graph.\")\n\u001b[1;32m-> 5181\u001b[1;33m   \u001b[1;32mreturn\u001b[0m \u001b[0msession\u001b[0m\u001b[1;33m.\u001b[0m\u001b[0mrun\u001b[0m\u001b[1;33m(\u001b[0m\u001b[0mtensors\u001b[0m\u001b[1;33m,\u001b[0m \u001b[0mfeed_dict\u001b[0m\u001b[1;33m)\u001b[0m\u001b[1;33m\u001b[0m\u001b[0m\n\u001b[0m\u001b[0;32m   5182\u001b[0m \u001b[1;33m\u001b[0m\u001b[0m\n\u001b[0;32m   5183\u001b[0m \u001b[1;33m\u001b[0m\u001b[0m\n",
      "\u001b[1;32m~\\Anaconda3\\lib\\site-packages\\tensorflow\\python\\client\\session.py\u001b[0m in \u001b[0;36mrun\u001b[1;34m(self, fetches, feed_dict, options, run_metadata)\u001b[0m\n\u001b[0;32m    927\u001b[0m     \u001b[1;32mtry\u001b[0m\u001b[1;33m:\u001b[0m\u001b[1;33m\u001b[0m\u001b[0m\n\u001b[0;32m    928\u001b[0m       result = self._run(None, fetches, feed_dict, options_ptr,\n\u001b[1;32m--> 929\u001b[1;33m                          run_metadata_ptr)\n\u001b[0m\u001b[0;32m    930\u001b[0m       \u001b[1;32mif\u001b[0m \u001b[0mrun_metadata\u001b[0m\u001b[1;33m:\u001b[0m\u001b[1;33m\u001b[0m\u001b[0m\n\u001b[0;32m    931\u001b[0m         \u001b[0mproto_data\u001b[0m \u001b[1;33m=\u001b[0m \u001b[0mtf_session\u001b[0m\u001b[1;33m.\u001b[0m\u001b[0mTF_GetBuffer\u001b[0m\u001b[1;33m(\u001b[0m\u001b[0mrun_metadata_ptr\u001b[0m\u001b[1;33m)\u001b[0m\u001b[1;33m\u001b[0m\u001b[0m\n",
      "\u001b[1;32m~\\Anaconda3\\lib\\site-packages\\tensorflow\\python\\client\\session.py\u001b[0m in \u001b[0;36m_run\u001b[1;34m(self, handle, fetches, feed_dict, options, run_metadata)\u001b[0m\n\u001b[0;32m   1150\u001b[0m     \u001b[1;32mif\u001b[0m \u001b[0mfinal_fetches\u001b[0m \u001b[1;32mor\u001b[0m \u001b[0mfinal_targets\u001b[0m \u001b[1;32mor\u001b[0m \u001b[1;33m(\u001b[0m\u001b[0mhandle\u001b[0m \u001b[1;32mand\u001b[0m \u001b[0mfeed_dict_tensor\u001b[0m\u001b[1;33m)\u001b[0m\u001b[1;33m:\u001b[0m\u001b[1;33m\u001b[0m\u001b[0m\n\u001b[0;32m   1151\u001b[0m       results = self._do_run(handle, final_targets, final_fetches,\n\u001b[1;32m-> 1152\u001b[1;33m                              feed_dict_tensor, options, run_metadata)\n\u001b[0m\u001b[0;32m   1153\u001b[0m     \u001b[1;32melse\u001b[0m\u001b[1;33m:\u001b[0m\u001b[1;33m\u001b[0m\u001b[0m\n\u001b[0;32m   1154\u001b[0m       \u001b[0mresults\u001b[0m \u001b[1;33m=\u001b[0m \u001b[1;33m[\u001b[0m\u001b[1;33m]\u001b[0m\u001b[1;33m\u001b[0m\u001b[0m\n",
      "\u001b[1;32m~\\Anaconda3\\lib\\site-packages\\tensorflow\\python\\client\\session.py\u001b[0m in \u001b[0;36m_do_run\u001b[1;34m(self, handle, target_list, fetch_list, feed_dict, options, run_metadata)\u001b[0m\n\u001b[0;32m   1326\u001b[0m     \u001b[1;32mif\u001b[0m \u001b[0mhandle\u001b[0m \u001b[1;32mis\u001b[0m \u001b[1;32mNone\u001b[0m\u001b[1;33m:\u001b[0m\u001b[1;33m\u001b[0m\u001b[0m\n\u001b[0;32m   1327\u001b[0m       return self._do_call(_run_fn, feeds, fetches, targets, options,\n\u001b[1;32m-> 1328\u001b[1;33m                            run_metadata)\n\u001b[0m\u001b[0;32m   1329\u001b[0m     \u001b[1;32melse\u001b[0m\u001b[1;33m:\u001b[0m\u001b[1;33m\u001b[0m\u001b[0m\n\u001b[0;32m   1330\u001b[0m       \u001b[1;32mreturn\u001b[0m \u001b[0mself\u001b[0m\u001b[1;33m.\u001b[0m\u001b[0m_do_call\u001b[0m\u001b[1;33m(\u001b[0m\u001b[0m_prun_fn\u001b[0m\u001b[1;33m,\u001b[0m \u001b[0mhandle\u001b[0m\u001b[1;33m,\u001b[0m \u001b[0mfeeds\u001b[0m\u001b[1;33m,\u001b[0m \u001b[0mfetches\u001b[0m\u001b[1;33m)\u001b[0m\u001b[1;33m\u001b[0m\u001b[0m\n",
      "\u001b[1;32m~\\Anaconda3\\lib\\site-packages\\tensorflow\\python\\client\\session.py\u001b[0m in \u001b[0;36m_do_call\u001b[1;34m(self, fn, *args)\u001b[0m\n\u001b[0;32m   1346\u001b[0m           \u001b[1;32mpass\u001b[0m\u001b[1;33m\u001b[0m\u001b[0m\n\u001b[0;32m   1347\u001b[0m       \u001b[0mmessage\u001b[0m \u001b[1;33m=\u001b[0m \u001b[0merror_interpolation\u001b[0m\u001b[1;33m.\u001b[0m\u001b[0minterpolate\u001b[0m\u001b[1;33m(\u001b[0m\u001b[0mmessage\u001b[0m\u001b[1;33m,\u001b[0m \u001b[0mself\u001b[0m\u001b[1;33m.\u001b[0m\u001b[0m_graph\u001b[0m\u001b[1;33m)\u001b[0m\u001b[1;33m\u001b[0m\u001b[0m\n\u001b[1;32m-> 1348\u001b[1;33m       \u001b[1;32mraise\u001b[0m \u001b[0mtype\u001b[0m\u001b[1;33m(\u001b[0m\u001b[0me\u001b[0m\u001b[1;33m)\u001b[0m\u001b[1;33m(\u001b[0m\u001b[0mnode_def\u001b[0m\u001b[1;33m,\u001b[0m \u001b[0mop\u001b[0m\u001b[1;33m,\u001b[0m \u001b[0mmessage\u001b[0m\u001b[1;33m)\u001b[0m\u001b[1;33m\u001b[0m\u001b[0m\n\u001b[0m\u001b[0;32m   1349\u001b[0m \u001b[1;33m\u001b[0m\u001b[0m\n\u001b[0;32m   1350\u001b[0m   \u001b[1;32mdef\u001b[0m \u001b[0m_extend_graph\u001b[0m\u001b[1;33m(\u001b[0m\u001b[0mself\u001b[0m\u001b[1;33m)\u001b[0m\u001b[1;33m:\u001b[0m\u001b[1;33m\u001b[0m\u001b[0m\n",
      "\u001b[1;31mInvalidArgumentError\u001b[0m: You must feed a value for placeholder tensor 'Placeholder' with dtype float and shape [?,100,100,3]\n\t [[node Placeholder (defined at <ipython-input-2-58290138c230>:3) ]]\n\t [[node Shape (defined at <ipython-input-11-ead0c18f3e30>:19) ]]\n\nCaused by op 'Placeholder', defined at:\n  File \"C:\\Users\\Juan Felipe Zarco\\Anaconda3\\lib\\runpy.py\", line 193, in _run_module_as_main\n    \"__main__\", mod_spec)\n  File \"C:\\Users\\Juan Felipe Zarco\\Anaconda3\\lib\\runpy.py\", line 85, in _run_code\n    exec(code, run_globals)\n  File \"C:\\Users\\Juan Felipe Zarco\\Anaconda3\\lib\\site-packages\\ipykernel_launcher.py\", line 16, in <module>\n    app.launch_new_instance()\n  File \"C:\\Users\\Juan Felipe Zarco\\Anaconda3\\lib\\site-packages\\traitlets\\config\\application.py\", line 658, in launch_instance\n    app.start()\n  File \"C:\\Users\\Juan Felipe Zarco\\Anaconda3\\lib\\site-packages\\ipykernel\\kernelapp.py\", line 477, in start\n    ioloop.IOLoop.instance().start()\n  File \"C:\\Users\\Juan Felipe Zarco\\Anaconda3\\lib\\site-packages\\zmq\\eventloop\\ioloop.py\", line 177, in start\n    super(ZMQIOLoop, self).start()\n  File \"C:\\Users\\Juan Felipe Zarco\\Anaconda3\\lib\\site-packages\\tornado\\ioloop.py\", line 888, in start\n    handler_func(fd_obj, events)\n  File \"C:\\Users\\Juan Felipe Zarco\\Anaconda3\\lib\\site-packages\\tornado\\stack_context.py\", line 277, in null_wrapper\n    return fn(*args, **kwargs)\n  File \"C:\\Users\\Juan Felipe Zarco\\Anaconda3\\lib\\site-packages\\zmq\\eventloop\\zmqstream.py\", line 440, in _handle_events\n    self._handle_recv()\n  File \"C:\\Users\\Juan Felipe Zarco\\Anaconda3\\lib\\site-packages\\zmq\\eventloop\\zmqstream.py\", line 472, in _handle_recv\n    self._run_callback(callback, msg)\n  File \"C:\\Users\\Juan Felipe Zarco\\Anaconda3\\lib\\site-packages\\zmq\\eventloop\\zmqstream.py\", line 414, in _run_callback\n    callback(*args, **kwargs)\n  File \"C:\\Users\\Juan Felipe Zarco\\Anaconda3\\lib\\site-packages\\tornado\\stack_context.py\", line 277, in null_wrapper\n    return fn(*args, **kwargs)\n  File \"C:\\Users\\Juan Felipe Zarco\\Anaconda3\\lib\\site-packages\\ipykernel\\kernelbase.py\", line 283, in dispatcher\n    return self.dispatch_shell(stream, msg)\n  File \"C:\\Users\\Juan Felipe Zarco\\Anaconda3\\lib\\site-packages\\ipykernel\\kernelbase.py\", line 235, in dispatch_shell\n    handler(stream, idents, msg)\n  File \"C:\\Users\\Juan Felipe Zarco\\Anaconda3\\lib\\site-packages\\ipykernel\\kernelbase.py\", line 399, in execute_request\n    user_expressions, allow_stdin)\n  File \"C:\\Users\\Juan Felipe Zarco\\Anaconda3\\lib\\site-packages\\ipykernel\\ipkernel.py\", line 196, in do_execute\n    res = shell.run_cell(code, store_history=store_history, silent=silent)\n  File \"C:\\Users\\Juan Felipe Zarco\\Anaconda3\\lib\\site-packages\\ipykernel\\zmqshell.py\", line 533, in run_cell\n    return super(ZMQInteractiveShell, self).run_cell(*args, **kwargs)\n  File \"C:\\Users\\Juan Felipe Zarco\\Anaconda3\\lib\\site-packages\\IPython\\core\\interactiveshell.py\", line 2698, in run_cell\n    interactivity=interactivity, compiler=compiler, result=result)\n  File \"C:\\Users\\Juan Felipe Zarco\\Anaconda3\\lib\\site-packages\\IPython\\core\\interactiveshell.py\", line 2802, in run_ast_nodes\n    if self.run_code(code, result):\n  File \"C:\\Users\\Juan Felipe Zarco\\Anaconda3\\lib\\site-packages\\IPython\\core\\interactiveshell.py\", line 2862, in run_code\n    exec(code_obj, self.user_global_ns, self.user_ns)\n  File \"<ipython-input-12-fcf64ee3046a>\", line 1, in <module>\n    params, cost = model(X_train, Y_train, X_test, Y_test, epochs=15, batch_size=5, learning_rate=0.001)\n  File \"<ipython-input-8-efe95d4262e0>\", line 16, in model\n    X,Y = create_placeholders(n_h,n_w,n_c,n_y)\n  File \"<ipython-input-2-58290138c230>\", line 3, in create_placeholders\n    X = tf.placeholder(tf.float32, shape=[None, n_h, n_w, n_c])\n  File \"C:\\Users\\Juan Felipe Zarco\\Anaconda3\\lib\\site-packages\\tensorflow\\python\\ops\\array_ops.py\", line 2077, in placeholder\n    return gen_array_ops.placeholder(dtype=dtype, shape=shape, name=name)\n  File \"C:\\Users\\Juan Felipe Zarco\\Anaconda3\\lib\\site-packages\\tensorflow\\python\\ops\\gen_array_ops.py\", line 5791, in placeholder\n    \"Placeholder\", dtype=dtype, shape=shape, name=name)\n  File \"C:\\Users\\Juan Felipe Zarco\\Anaconda3\\lib\\site-packages\\tensorflow\\python\\framework\\op_def_library.py\", line 788, in _apply_op_helper\n    op_def=op_def)\n  File \"C:\\Users\\Juan Felipe Zarco\\Anaconda3\\lib\\site-packages\\tensorflow\\python\\util\\deprecation.py\", line 507, in new_func\n    return func(*args, **kwargs)\n  File \"C:\\Users\\Juan Felipe Zarco\\Anaconda3\\lib\\site-packages\\tensorflow\\python\\framework\\ops.py\", line 3300, in create_op\n    op_def=op_def)\n  File \"C:\\Users\\Juan Felipe Zarco\\Anaconda3\\lib\\site-packages\\tensorflow\\python\\framework\\ops.py\", line 1801, in __init__\n    self._traceback = tf_stack.extract_stack()\n\nInvalidArgumentError (see above for traceback): You must feed a value for placeholder tensor 'Placeholder' with dtype float and shape [?,100,100,3]\n\t [[node Placeholder (defined at <ipython-input-2-58290138c230>:3) ]]\n\t [[node Shape (defined at <ipython-input-11-ead0c18f3e30>:19) ]]\n"
     ]
    }
   ],
   "source": [
    "params, cost = model(X_train, Y_train, X_test, Y_test, epochs=15, batch_size=5, learning_rate=0.001)"
   ]
  },
  {
   "cell_type": "code",
   "execution_count": null,
   "metadata": {
    "collapsed": true
   },
   "outputs": [],
   "source": []
  }
 ],
 "metadata": {
  "kernelspec": {
   "display_name": "Python 3",
   "language": "python",
   "name": "python3"
  },
  "language_info": {
   "codemirror_mode": {
    "name": "ipython",
    "version": 3
   },
   "file_extension": ".py",
   "mimetype": "text/x-python",
   "name": "python",
   "nbconvert_exporter": "python",
   "pygments_lexer": "ipython3",
   "version": "3.6.3"
  }
 },
 "nbformat": 4,
 "nbformat_minor": 2
}
